{
 "cells": [
  {
   "cell_type": "code",
   "execution_count": 5,
   "metadata": {},
   "outputs": [],
   "source": [
    "from myauz.myalpha_funcs import (\n",
    "    read_data,\n",
    "    persist_data,\n",
    "    update_csv,\n",
    "    compose_portfolio,\n",
    "    retrieveDF,\n",
    "    string2date,\n",
    "    retrievePF,\n",
    "    initialize_df,\n",
    "    time_sleep,\n",
    "    create_path_list,\n",
    "    refresh_db,\n",
    ")\n",
    "\n",
    "from myauz.myalpha_libs_universal import StocksDb\n",
    "\n",
    "\n",
    "import time\n",
    "\n"
   ]
  },
  {
   "cell_type": "code",
   "execution_count": 6,
   "metadata": {},
   "outputs": [
    {
     "name": "stdout",
     "output_type": "stream",
     "text": [
      "Directory  ../data  already exists\n",
      "\n",
      " 77K8XPSR3XWWZJ80 ..\n",
      "\n",
      "\n",
      "\n",
      "                 DHR     GOOG\n",
      "2020-01-02  154.7471  1367.37\n",
      "2020-01-03  153.7893  1360.66\n",
      "2020-01-06  154.2483  1394.21\n",
      "2020-01-07  155.7647  1393.34\n",
      "2020-01-08  155.9243  1404.32\n",
      "...              ...      ...\n",
      "2020-08-07  205.4000  1494.49\n",
      "2020-08-10  202.0500  1496.10\n",
      "2020-08-11  200.0100  1480.32\n",
      "2020-08-12  205.9200  1506.62\n",
      "2020-08-13  207.1900  1518.45\n",
      "\n",
      "[156 rows x 2 columns]\n"
     ]
    }
   ],
   "source": [
    "symbol_list = [\"DHR\", \"GOOG\"]\n",
    "\n",
    "alphaDB = StocksDb()\n",
    "alphaDB.check_path()\n",
    "print(\"\\n\", alphaDB.api_key_alpha, alphaDB.path)\n",
    "print(\"\\n\\n\")\n",
    "api_key_alpha = alphaDB.api_key_alpha\n",
    "root_path = alphaDB.path\n",
    "read_from_alphavantage = False\n",
    "rename_column = True\n",
    "\n",
    "\n",
    "from datetime import date\n",
    "import datetime\n",
    "import pandas as pd\n",
    "\n",
    "usecols = [\"timestamp\", \"adjusted_close\"]\n",
    "startd = \"2020-01-01\"\n",
    "endd = \"2020-08-14\"\n",
    "path_list = create_path_list(symbol_list, root_path)\n",
    "\n",
    "\n",
    "# refresh_db(root_path, api_key_alpha, symbol_list, False)\n",
    "\n",
    "### create dataframe with portfolio\n",
    "df_pf = retrievePF(symbol_list, path_list, startd, endd, usecols, rename_column)\n",
    "print(df_pf)"
   ]
  }
 ],
 "metadata": {
  "kernelspec": {
   "display_name": "Python 3",
   "language": "python",
   "name": "python3"
  },
  "language_info": {
   "codemirror_mode": {
    "name": "ipython",
    "version": 3
   },
   "file_extension": ".py",
   "mimetype": "text/x-python",
   "name": "python",
   "nbconvert_exporter": "python",
   "pygments_lexer": "ipython3",
   "version": "3.6.6+"
  }
 },
 "nbformat": 4,
 "nbformat_minor": 2
}
